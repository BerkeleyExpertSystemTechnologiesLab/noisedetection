{
  "cells": [
    {
      "cell_type": "code",
      "execution_count": 10,
      "metadata": {},
      "outputs": [],
      "source": [
        "import pandas as pd\n",
        "import numpy as np\n",
        "from pathlib import Path\n"
      ]
    },
    {
      "cell_type": "code",
      "execution_count": 12,
      "metadata": {},
      "outputs": [
        {
          "name": "stdout",
          "output_type": "stream",
          "text": [
            "Collecting fastai==1.0.58\n",
            "  Using cached fastai-1.0.58-py3-none-any.whl (236 kB)\n",
            "Requirement already satisfied: beautifulsoup4 in /Users/srinijacherivirala/Library/Python/3.10/lib/python/site-packages (from fastai==1.0.58) (4.12.0)\n",
            "Requirement already satisfied: torch>=1.0.0 in /Library/Frameworks/Python.framework/Versions/3.10/lib/python3.10/site-packages (from fastai==1.0.58) (2.0.0)\n",
            "Requirement already satisfied: scipy in /Library/Frameworks/Python.framework/Versions/3.10/lib/python3.10/site-packages (from fastai==1.0.58) (1.10.1)\n",
            "Requirement already satisfied: packaging in /Library/Frameworks/Python.framework/Versions/3.10/lib/python3.10/site-packages (from fastai==1.0.58) (21.3)\n",
            "Requirement already satisfied: spacy>=2.0.18 in /Library/Frameworks/Python.framework/Versions/3.10/lib/python3.10/site-packages (from fastai==1.0.58) (3.5.1)\n",
            "Requirement already satisfied: numpy>=1.15 in /Library/Frameworks/Python.framework/Versions/3.10/lib/python3.10/site-packages (from fastai==1.0.58) (1.23.3)\n",
            "Requirement already satisfied: requests in /Library/Frameworks/Python.framework/Versions/3.10/lib/python3.10/site-packages (from fastai==1.0.58) (2.28.2)\n",
            "Requirement already satisfied: torchvision in /Library/Frameworks/Python.framework/Versions/3.10/lib/python3.10/site-packages (from fastai==1.0.58) (0.15.1)\n",
            "Collecting bottleneck\n",
            "  Using cached Bottleneck-1.3.7-cp310-cp310-macosx_10_9_universal2.whl\n",
            "Requirement already satisfied: pyyaml in /Users/srinijacherivirala/Library/Python/3.10/lib/python/site-packages (from fastai==1.0.58) (6.0)\n",
            "Requirement already satisfied: Pillow in /Library/Frameworks/Python.framework/Versions/3.10/lib/python3.10/site-packages (from fastai==1.0.58) (9.2.0)\n",
            "Requirement already satisfied: fastprogress>=0.1.19 in /Library/Frameworks/Python.framework/Versions/3.10/lib/python3.10/site-packages (from fastai==1.0.58) (1.0.3)\n",
            "Collecting pynvx>=1.0.0\n",
            "  Using cached pynvx-1.0.0.tar.gz (150 kB)\n",
            "  Preparing metadata (setup.py) ... \u001b[?25ldone\n",
            "\u001b[?25hRequirement already satisfied: matplotlib in /Library/Frameworks/Python.framework/Versions/3.10/lib/python3.10/site-packages (from fastai==1.0.58) (3.6.0)\n",
            "Requirement already satisfied: pandas in /Library/Frameworks/Python.framework/Versions/3.10/lib/python3.10/site-packages (from fastai==1.0.58) (2.0.0)\n",
            "Collecting numexpr\n",
            "  Using cached numexpr-2.8.4-cp310-cp310-macosx_11_0_arm64.whl (89 kB)\n",
            "Collecting nvidia-ml-py3\n",
            "  Using cached nvidia-ml-py3-7.352.0.tar.gz (19 kB)\n",
            "  Preparing metadata (setup.py) ... \u001b[?25ldone\n",
            "\u001b[?25hRequirement already satisfied: jinja2 in /Users/srinijacherivirala/Library/Python/3.10/lib/python/site-packages (from spacy>=2.0.18->fastai==1.0.58) (3.1.2)\n",
            "Requirement already satisfied: pydantic!=1.8,!=1.8.1,<1.11.0,>=1.7.4 in /Library/Frameworks/Python.framework/Versions/3.10/lib/python3.10/site-packages (from spacy>=2.0.18->fastai==1.0.58) (1.10.7)\n",
            "Requirement already satisfied: wasabi<1.2.0,>=0.9.1 in /Library/Frameworks/Python.framework/Versions/3.10/lib/python3.10/site-packages (from spacy>=2.0.18->fastai==1.0.58) (1.1.1)\n",
            "Requirement already satisfied: murmurhash<1.1.0,>=0.28.0 in /Library/Frameworks/Python.framework/Versions/3.10/lib/python3.10/site-packages (from spacy>=2.0.18->fastai==1.0.58) (1.0.9)\n",
            "Requirement already satisfied: pathy>=0.10.0 in /Library/Frameworks/Python.framework/Versions/3.10/lib/python3.10/site-packages (from spacy>=2.0.18->fastai==1.0.58) (0.10.1)\n",
            "Requirement already satisfied: typer<0.8.0,>=0.3.0 in /Library/Frameworks/Python.framework/Versions/3.10/lib/python3.10/site-packages (from spacy>=2.0.18->fastai==1.0.58) (0.7.0)\n",
            "Requirement already satisfied: catalogue<2.1.0,>=2.0.6 in /Library/Frameworks/Python.framework/Versions/3.10/lib/python3.10/site-packages (from spacy>=2.0.18->fastai==1.0.58) (2.0.8)\n",
            "Requirement already satisfied: tqdm<5.0.0,>=4.38.0 in /Library/Frameworks/Python.framework/Versions/3.10/lib/python3.10/site-packages (from spacy>=2.0.18->fastai==1.0.58) (4.65.0)\n",
            "Requirement already satisfied: preshed<3.1.0,>=3.0.2 in /Library/Frameworks/Python.framework/Versions/3.10/lib/python3.10/site-packages (from spacy>=2.0.18->fastai==1.0.58) (3.0.8)\n",
            "Requirement already satisfied: thinc<8.2.0,>=8.1.8 in /Library/Frameworks/Python.framework/Versions/3.10/lib/python3.10/site-packages (from spacy>=2.0.18->fastai==1.0.58) (8.1.9)\n",
            "Requirement already satisfied: langcodes<4.0.0,>=3.2.0 in /Library/Frameworks/Python.framework/Versions/3.10/lib/python3.10/site-packages (from spacy>=2.0.18->fastai==1.0.58) (3.3.0)\n",
            "Requirement already satisfied: setuptools in /Library/Frameworks/Python.framework/Versions/3.10/lib/python3.10/site-packages (from spacy>=2.0.18->fastai==1.0.58) (63.2.0)\n",
            "Requirement already satisfied: spacy-loggers<2.0.0,>=1.0.0 in /Library/Frameworks/Python.framework/Versions/3.10/lib/python3.10/site-packages (from spacy>=2.0.18->fastai==1.0.58) (1.0.4)\n",
            "Requirement already satisfied: smart-open<7.0.0,>=5.2.1 in /Library/Frameworks/Python.framework/Versions/3.10/lib/python3.10/site-packages (from spacy>=2.0.18->fastai==1.0.58) (6.3.0)\n",
            "Requirement already satisfied: srsly<3.0.0,>=2.4.3 in /Library/Frameworks/Python.framework/Versions/3.10/lib/python3.10/site-packages (from spacy>=2.0.18->fastai==1.0.58) (2.4.6)\n",
            "Requirement already satisfied: cymem<2.1.0,>=2.0.2 in /Library/Frameworks/Python.framework/Versions/3.10/lib/python3.10/site-packages (from spacy>=2.0.18->fastai==1.0.58) (2.0.7)\n",
            "Requirement already satisfied: spacy-legacy<3.1.0,>=3.0.11 in /Library/Frameworks/Python.framework/Versions/3.10/lib/python3.10/site-packages (from spacy>=2.0.18->fastai==1.0.58) (3.0.12)\n",
            "Requirement already satisfied: pyparsing!=3.0.5,>=2.0.2 in /Library/Frameworks/Python.framework/Versions/3.10/lib/python3.10/site-packages (from packaging->fastai==1.0.58) (3.0.9)\n",
            "Requirement already satisfied: charset-normalizer<4,>=2 in /Library/Frameworks/Python.framework/Versions/3.10/lib/python3.10/site-packages (from requests->fastai==1.0.58) (3.1.0)\n",
            "Requirement already satisfied: idna<4,>=2.5 in /Users/srinijacherivirala/Library/Python/3.10/lib/python/site-packages (from requests->fastai==1.0.58) (3.4)\n",
            "Requirement already satisfied: certifi>=2017.4.17 in /Library/Frameworks/Python.framework/Versions/3.10/lib/python3.10/site-packages (from requests->fastai==1.0.58) (2022.12.7)\n",
            "Requirement already satisfied: urllib3<1.27,>=1.21.1 in /Library/Frameworks/Python.framework/Versions/3.10/lib/python3.10/site-packages (from requests->fastai==1.0.58) (1.26.15)\n",
            "Requirement already satisfied: typing-extensions in /Library/Frameworks/Python.framework/Versions/3.10/lib/python3.10/site-packages (from torch>=1.0.0->fastai==1.0.58) (4.5.0)\n",
            "Requirement already satisfied: networkx in /Library/Frameworks/Python.framework/Versions/3.10/lib/python3.10/site-packages (from torch>=1.0.0->fastai==1.0.58) (3.0)\n",
            "Requirement already satisfied: filelock in /Library/Frameworks/Python.framework/Versions/3.10/lib/python3.10/site-packages (from torch>=1.0.0->fastai==1.0.58) (3.10.7)\n",
            "Requirement already satisfied: sympy in /Library/Frameworks/Python.framework/Versions/3.10/lib/python3.10/site-packages (from torch>=1.0.0->fastai==1.0.58) (1.11.1)\n",
            "Requirement already satisfied: soupsieve>1.2 in /Users/srinijacherivirala/Library/Python/3.10/lib/python/site-packages (from beautifulsoup4->fastai==1.0.58) (2.4)\n",
            "Requirement already satisfied: python-dateutil>=2.7 in /Library/Frameworks/Python.framework/Versions/3.10/lib/python3.10/site-packages (from matplotlib->fastai==1.0.58) (2.8.2)\n",
            "Requirement already satisfied: contourpy>=1.0.1 in /Library/Frameworks/Python.framework/Versions/3.10/lib/python3.10/site-packages (from matplotlib->fastai==1.0.58) (1.0.5)\n",
            "Requirement already satisfied: cycler>=0.10 in /Library/Frameworks/Python.framework/Versions/3.10/lib/python3.10/site-packages (from matplotlib->fastai==1.0.58) (0.11.0)\n",
            "Requirement already satisfied: fonttools>=4.22.0 in /Library/Frameworks/Python.framework/Versions/3.10/lib/python3.10/site-packages (from matplotlib->fastai==1.0.58) (4.37.4)\n",
            "Requirement already satisfied: kiwisolver>=1.0.1 in /Library/Frameworks/Python.framework/Versions/3.10/lib/python3.10/site-packages (from matplotlib->fastai==1.0.58) (1.4.4)\n",
            "Requirement already satisfied: tzdata>=2022.1 in /Library/Frameworks/Python.framework/Versions/3.10/lib/python3.10/site-packages (from pandas->fastai==1.0.58) (2023.3)\n",
            "Requirement already satisfied: pytz>=2020.1 in /Library/Frameworks/Python.framework/Versions/3.10/lib/python3.10/site-packages (from pandas->fastai==1.0.58) (2023.3)\n",
            "Requirement already satisfied: six>=1.5 in /Library/Frameworks/Python.framework/Versions/3.10/lib/python3.10/site-packages (from python-dateutil>=2.7->matplotlib->fastai==1.0.58) (1.16.0)\n",
            "Requirement already satisfied: blis<0.8.0,>=0.7.8 in /Library/Frameworks/Python.framework/Versions/3.10/lib/python3.10/site-packages (from thinc<8.2.0,>=8.1.8->spacy>=2.0.18->fastai==1.0.58) (0.7.9)\n",
            "Requirement already satisfied: confection<1.0.0,>=0.0.1 in /Library/Frameworks/Python.framework/Versions/3.10/lib/python3.10/site-packages (from thinc<8.2.0,>=8.1.8->spacy>=2.0.18->fastai==1.0.58) (0.0.4)\n",
            "Requirement already satisfied: click<9.0.0,>=7.1.1 in /Library/Frameworks/Python.framework/Versions/3.10/lib/python3.10/site-packages (from typer<0.8.0,>=0.3.0->spacy>=2.0.18->fastai==1.0.58) (8.1.3)\n",
            "Requirement already satisfied: MarkupSafe>=2.0 in /Users/srinijacherivirala/Library/Python/3.10/lib/python/site-packages (from jinja2->spacy>=2.0.18->fastai==1.0.58) (2.1.2)\n",
            "Requirement already satisfied: mpmath>=0.19 in /Library/Frameworks/Python.framework/Versions/3.10/lib/python3.10/site-packages (from sympy->torch>=1.0.0->fastai==1.0.58) (1.3.0)\n",
            "Using legacy 'setup.py install' for pynvx, since package 'wheel' is not installed.\n",
            "Using legacy 'setup.py install' for nvidia-ml-py3, since package 'wheel' is not installed.\n",
            "Installing collected packages: pynvx, nvidia-ml-py3, numexpr, bottleneck, fastai\n",
            "  Running setup.py install for pynvx ... \u001b[?25lerror\n",
            "  \u001b[1;31merror\u001b[0m: \u001b[1msubprocess-exited-with-error\u001b[0m\n",
            "  \n",
            "  \u001b[31m×\u001b[0m \u001b[32mRunning setup.py install for pynvx\u001b[0m did not run successfully.\n",
            "  \u001b[31m│\u001b[0m exit code: \u001b[1;36m1\u001b[0m\n",
            "  \u001b[31m╰─>\u001b[0m \u001b[31m[66 lines of output]\u001b[0m\n",
            "  \u001b[31m   \u001b[0m running install\n",
            "  \u001b[31m   \u001b[0m /Library/Frameworks/Python.framework/Versions/3.10/lib/python3.10/site-packages/setuptools/command/install.py:34: SetuptoolsDeprecationWarning: setup.py install is deprecated. Use build and pip and other standards-based tools.\n",
            "  \u001b[31m   \u001b[0m   warnings.warn(\n",
            "  \u001b[31m   \u001b[0m running build\n",
            "  \u001b[31m   \u001b[0m running build_py\n",
            "  \u001b[31m   \u001b[0m creating build\n",
            "  \u001b[31m   \u001b[0m creating build/lib.macosx-10.9-universal2-cpython-310\n",
            "  \u001b[31m   \u001b[0m creating build/lib.macosx-10.9-universal2-cpython-310/pynvx\n",
            "  \u001b[31m   \u001b[0m copying pynvx/pynvml.py -> build/lib.macosx-10.9-universal2-cpython-310/pynvx\n",
            "  \u001b[31m   \u001b[0m copying pynvx/__init__.py -> build/lib.macosx-10.9-universal2-cpython-310/pynvx\n",
            "  \u001b[31m   \u001b[0m running build_ext\n",
            "  \u001b[31m   \u001b[0m Traceback (most recent call last):\n",
            "  \u001b[31m   \u001b[0m   File \"/private/var/folders/kc/5r5g779d2q760vkt7s_v6rmm0000gn/T/pip-install-qdg423ur/pynvx_f4d42485aebe431581613380973851f9/setup.py\", line 21, in run\n",
            "  \u001b[31m   \u001b[0m     out = subprocess.check_output(['cmake', '--version'])\n",
            "  \u001b[31m   \u001b[0m   File \"/Library/Frameworks/Python.framework/Versions/3.10/lib/python3.10/subprocess.py\", line 420, in check_output\n",
            "  \u001b[31m   \u001b[0m     return run(*popenargs, stdout=PIPE, timeout=timeout, check=True,\n",
            "  \u001b[31m   \u001b[0m   File \"/Library/Frameworks/Python.framework/Versions/3.10/lib/python3.10/subprocess.py\", line 501, in run\n",
            "  \u001b[31m   \u001b[0m     with Popen(*popenargs, **kwargs) as process:\n",
            "  \u001b[31m   \u001b[0m   File \"/Library/Frameworks/Python.framework/Versions/3.10/lib/python3.10/subprocess.py\", line 969, in __init__\n",
            "  \u001b[31m   \u001b[0m     self._execute_child(args, executable, preexec_fn, close_fds,\n",
            "  \u001b[31m   \u001b[0m   File \"/Library/Frameworks/Python.framework/Versions/3.10/lib/python3.10/subprocess.py\", line 1845, in _execute_child\n",
            "  \u001b[31m   \u001b[0m     raise child_exception_type(errno_num, err_msg, err_filename)\n",
            "  \u001b[31m   \u001b[0m FileNotFoundError: [Errno 2] No such file or directory: 'cmake'\n",
            "  \u001b[31m   \u001b[0m \n",
            "  \u001b[31m   \u001b[0m During handling of the above exception, another exception occurred:\n",
            "  \u001b[31m   \u001b[0m \n",
            "  \u001b[31m   \u001b[0m Traceback (most recent call last):\n",
            "  \u001b[31m   \u001b[0m   File \"<string>\", line 2, in <module>\n",
            "  \u001b[31m   \u001b[0m   File \"<pip-setuptools-caller>\", line 34, in <module>\n",
            "  \u001b[31m   \u001b[0m   File \"/private/var/folders/kc/5r5g779d2q760vkt7s_v6rmm0000gn/T/pip-install-qdg423ur/pynvx_f4d42485aebe431581613380973851f9/setup.py\", line 68, in <module>\n",
            "  \u001b[31m   \u001b[0m     setup(\n",
            "  \u001b[31m   \u001b[0m   File \"/Library/Frameworks/Python.framework/Versions/3.10/lib/python3.10/site-packages/setuptools/__init__.py\", line 87, in setup\n",
            "  \u001b[31m   \u001b[0m     return distutils.core.setup(**attrs)\n",
            "  \u001b[31m   \u001b[0m   File \"/Library/Frameworks/Python.framework/Versions/3.10/lib/python3.10/site-packages/setuptools/_distutils/core.py\", line 177, in setup\n",
            "  \u001b[31m   \u001b[0m     return run_commands(dist)\n",
            "  \u001b[31m   \u001b[0m   File \"/Library/Frameworks/Python.framework/Versions/3.10/lib/python3.10/site-packages/setuptools/_distutils/core.py\", line 193, in run_commands\n",
            "  \u001b[31m   \u001b[0m     dist.run_commands()\n",
            "  \u001b[31m   \u001b[0m   File \"/Library/Frameworks/Python.framework/Versions/3.10/lib/python3.10/site-packages/setuptools/_distutils/dist.py\", line 968, in run_commands\n",
            "  \u001b[31m   \u001b[0m     self.run_command(cmd)\n",
            "  \u001b[31m   \u001b[0m   File \"/Library/Frameworks/Python.framework/Versions/3.10/lib/python3.10/site-packages/setuptools/dist.py\", line 1217, in run_command\n",
            "  \u001b[31m   \u001b[0m     super().run_command(command)\n",
            "  \u001b[31m   \u001b[0m   File \"/Library/Frameworks/Python.framework/Versions/3.10/lib/python3.10/site-packages/setuptools/_distutils/dist.py\", line 987, in run_command\n",
            "  \u001b[31m   \u001b[0m     cmd_obj.run()\n",
            "  \u001b[31m   \u001b[0m   File \"/Library/Frameworks/Python.framework/Versions/3.10/lib/python3.10/site-packages/setuptools/command/install.py\", line 68, in run\n",
            "  \u001b[31m   \u001b[0m     return orig.install.run(self)\n",
            "  \u001b[31m   \u001b[0m   File \"/Library/Frameworks/Python.framework/Versions/3.10/lib/python3.10/site-packages/setuptools/_distutils/command/install.py\", line 695, in run\n",
            "  \u001b[31m   \u001b[0m     self.run_command('build')\n",
            "  \u001b[31m   \u001b[0m   File \"/Library/Frameworks/Python.framework/Versions/3.10/lib/python3.10/site-packages/setuptools/_distutils/cmd.py\", line 317, in run_command\n",
            "  \u001b[31m   \u001b[0m     self.distribution.run_command(command)\n",
            "  \u001b[31m   \u001b[0m   File \"/Library/Frameworks/Python.framework/Versions/3.10/lib/python3.10/site-packages/setuptools/dist.py\", line 1217, in run_command\n",
            "  \u001b[31m   \u001b[0m     super().run_command(command)\n",
            "  \u001b[31m   \u001b[0m   File \"/Library/Frameworks/Python.framework/Versions/3.10/lib/python3.10/site-packages/setuptools/_distutils/dist.py\", line 987, in run_command\n",
            "  \u001b[31m   \u001b[0m     cmd_obj.run()\n",
            "  \u001b[31m   \u001b[0m   File \"/Library/Frameworks/Python.framework/Versions/3.10/lib/python3.10/site-packages/setuptools/command/build.py\", line 24, in run\n",
            "  \u001b[31m   \u001b[0m     super().run()\n",
            "  \u001b[31m   \u001b[0m   File \"/Library/Frameworks/Python.framework/Versions/3.10/lib/python3.10/site-packages/setuptools/_distutils/command/build.py\", line 131, in run\n",
            "  \u001b[31m   \u001b[0m     self.run_command(cmd_name)\n",
            "  \u001b[31m   \u001b[0m   File \"/Library/Frameworks/Python.framework/Versions/3.10/lib/python3.10/site-packages/setuptools/_distutils/cmd.py\", line 317, in run_command\n",
            "  \u001b[31m   \u001b[0m     self.distribution.run_command(command)\n",
            "  \u001b[31m   \u001b[0m   File \"/Library/Frameworks/Python.framework/Versions/3.10/lib/python3.10/site-packages/setuptools/dist.py\", line 1217, in run_command\n",
            "  \u001b[31m   \u001b[0m     super().run_command(command)\n",
            "  \u001b[31m   \u001b[0m   File \"/Library/Frameworks/Python.framework/Versions/3.10/lib/python3.10/site-packages/setuptools/_distutils/dist.py\", line 987, in run_command\n",
            "  \u001b[31m   \u001b[0m     cmd_obj.run()\n",
            "  \u001b[31m   \u001b[0m   File \"/private/var/folders/kc/5r5g779d2q760vkt7s_v6rmm0000gn/T/pip-install-qdg423ur/pynvx_f4d42485aebe431581613380973851f9/setup.py\", line 23, in run\n",
            "  \u001b[31m   \u001b[0m     raise RuntimeError(\"CMake must be installed to build the following extensions: \" +\n",
            "  \u001b[31m   \u001b[0m RuntimeError: CMake must be installed to build the following extensions: _pynvx\n",
            "  \u001b[31m   \u001b[0m \u001b[31m[end of output]\u001b[0m\n",
            "  \n",
            "  \u001b[1;35mnote\u001b[0m: This error originates from a subprocess, and is likely not a problem with pip.\n",
            "\u001b[?25h\u001b[1;31merror\u001b[0m: \u001b[1mlegacy-install-failure\u001b[0m\n",
            "\n",
            "\u001b[31m×\u001b[0m Encountered error while trying to install package.\n",
            "\u001b[31m╰─>\u001b[0m pynvx\n",
            "\n",
            "\u001b[1;35mnote\u001b[0m: This is an issue with the package mentioned above, not pip.\n",
            "\u001b[1;36mhint\u001b[0m: See above for output from the failure.\n",
            "\n",
            "\u001b[1m[\u001b[0m\u001b[34;49mnotice\u001b[0m\u001b[1;39;49m]\u001b[0m\u001b[39;49m A new release of pip available: \u001b[0m\u001b[31;49m22.2.2\u001b[0m\u001b[39;49m -> \u001b[0m\u001b[32;49m23.0.1\u001b[0m\n",
            "\u001b[1m[\u001b[0m\u001b[34;49mnotice\u001b[0m\u001b[1;39;49m]\u001b[0m\u001b[39;49m To update, run: \u001b[0m\u001b[32;49mpip3 install --upgrade pip\u001b[0m\n"
          ]
        }
      ],
      "source": [
        "from fastai import *"
      ]
    },
    {
      "cell_type": "code",
      "execution_count": 13,
      "metadata": {
        "id": "W1oi-os94_8O"
      },
      "outputs": [
        {
          "ename": "NameError",
          "evalue": "name 'ImageDataBunch' is not defined",
          "output_type": "error",
          "traceback": [
            "\u001b[0;31m---------------------------------------------------------------------------\u001b[0m",
            "\u001b[0;31mNameError\u001b[0m                                 Traceback (most recent call last)",
            "Cell \u001b[0;32mIn[13], line 3\u001b[0m\n\u001b[1;32m      1\u001b[0m path \u001b[39m=\u001b[39m Path(\u001b[39m'\u001b[39m\u001b[39m/\u001b[39m\u001b[39m'\u001b[39m)\n\u001b[1;32m      2\u001b[0m np\u001b[39m.\u001b[39mrandom\u001b[39m.\u001b[39mseed(\u001b[39m42\u001b[39m)\n\u001b[0;32m----> 3\u001b[0m data \u001b[39m=\u001b[39m ImageDataBunch\u001b[39m.\u001b[39mfrom_df(path \u001b[39m=\u001b[39m path, df \u001b[39m=\u001b[39m labels_train, folder \u001b[39m=\u001b[39m \u001b[39m'\u001b[39m\u001b[39mtrain\u001b[39m\u001b[39m'\u001b[39m, valid_pct\u001b[39m=\u001b[39m\u001b[39m0.2\u001b[39m, suffix\u001b[39m=\u001b[39m\u001b[39m'\u001b[39m\u001b[39m.jpg\u001b[39m\u001b[39m'\u001b[39m, num_workers\u001b[39m=\u001b[39m\u001b[39m0\u001b[39m)\n",
            "\u001b[0;31mNameError\u001b[0m: name 'ImageDataBunch' is not defined"
          ]
        }
      ],
      "source": [
        "path = Path('/')\n",
        "np.random.seed(42)\n",
        "data = ImageDataBunch.from_df(path = path, df = labels_train, folder = 'train', valid_pct=0.2, suffix='.jpg', num_workers=0)"
      ]
    },
    {
      "cell_type": "code",
      "execution_count": null,
      "metadata": {
        "id": "EN4yKtdY_UgJ"
      },
      "outputs": [],
      "source": [
        "data.classes"
      ]
    },
    {
      "cell_type": "code",
      "execution_count": null,
      "metadata": {
        "id": "hIBf3MubFQ21"
      },
      "outputs": [],
      "source": [
        "learn = create_cnn(data, models.resnet34, metrics=accuracy)"
      ]
    },
    {
      "cell_type": "code",
      "execution_count": null,
      "metadata": {
        "id": "Zm6QF8eUH0I9"
      },
      "outputs": [],
      "source": [
        "learn.fit_one_cycle(4)"
      ]
    },
    {
      "cell_type": "code",
      "execution_count": null,
      "metadata": {
        "id": "DZpr1h5xH4hl"
      },
      "outputs": [],
      "source": [
        "learn.save('stage-1')"
      ]
    },
    {
      "cell_type": "code",
      "execution_count": null,
      "metadata": {
        "id": "u7mB1KTFKCIV"
      },
      "outputs": [],
      "source": [
        "learn.unfreeze()\n",
        "learn.lr_find()\n",
        "learn.recorder.plot()"
      ]
    },
    {
      "cell_type": "code",
      "execution_count": null,
      "metadata": {
        "id": "DdzfWoPKKCzr"
      },
      "outputs": [],
      "source": [
        "learn.fit_one_cycle(4, max_lr=slice(1e-4,1e-3))"
      ]
    },
    {
      "cell_type": "code",
      "execution_count": null,
      "metadata": {
        "id": "rDAPygb3KFca"
      },
      "outputs": [],
      "source": [
        "learn.save('stage-2')"
      ]
    },
    {
      "cell_type": "code",
      "execution_count": null,
      "metadata": {
        "id": "DAvldpSpKKix"
      },
      "outputs": [],
      "source": [
        "learn.lr_find()\n",
        "learn.recorder.plot()"
      ]
    },
    {
      "cell_type": "code",
      "execution_count": null,
      "metadata": {
        "id": "vFsFiliFKNuL"
      },
      "outputs": [],
      "source": [
        "learn.fit_one_cycle(1, max_lr=slice(1e-6,2e-6))"
      ]
    },
    {
      "cell_type": "code",
      "execution_count": null,
      "metadata": {
        "id": "CvDMQwAbKQJi"
      },
      "outputs": [],
      "source": [
        "learn.save('stage-3')"
      ]
    },
    {
      "cell_type": "markdown",
      "metadata": {
        "id": "EGVIyTVgKt3r"
      },
      "source": [
        "Making Predictions"
      ]
    },
    {
      "cell_type": "code",
      "execution_count": null,
      "metadata": {
        "id": "6yNWu2b2KSS5"
      },
      "outputs": [],
      "source": [
        "with open('output.csv',\"w\") as file:\n",
        "    file.write(\"ID,Prediction\\n\")\n",
        "    for file in labels_test.filename:\n",
        "        img = open_image('test/'+str(file)+'.jpg')\n",
        "        prediction = str(learn.predict(img)[0]).split()[0]\n",
        "        file.write(str(file)+','+prediction)\n",
        "        file.write('\\n')"
      ]
    },
    {
      "cell_type": "code",
      "execution_count": null,
      "metadata": {
        "id": "Us5Usn2NLB69"
      },
      "outputs": [],
      "source": [
        "output = pd.read_csv('output.csv')\n",
        "output.head()"
      ]
    },
    {
      "cell_type": "markdown",
      "metadata": {
        "id": "ATH6_fzlLF7l"
      },
      "source": [
        "Cleanup"
      ]
    },
    {
      "cell_type": "code",
      "execution_count": null,
      "metadata": {
        "id": "RaICrGXtLG75"
      },
      "outputs": [],
      "source": [
        "'''\n",
        "%%capture\n",
        "!apt-get install zip\n",
        "!zip -r train.zip /kaggle/working/train/\n",
        "!zip -r test.zip /kaggle/working/test/\n",
        "!rm -rf train/*\n",
        "!rm -rf test/*\n",
        "'''"
      ]
    }
  ],
  "metadata": {
    "accelerator": "GPU",
    "colab": {
      "provenance": []
    },
    "gpuClass": "standard",
    "kernelspec": {
      "display_name": "Python 3",
      "language": "python",
      "name": "python3"
    },
    "language_info": {
      "codemirror_mode": {
        "name": "ipython",
        "version": 3
      },
      "file_extension": ".py",
      "mimetype": "text/x-python",
      "name": "python",
      "nbconvert_exporter": "python",
      "pygments_lexer": "ipython3",
      "version": "3.10.7"
    },
    "vscode": {
      "interpreter": {
        "hash": "aee8b7b246df8f9039afb4144a1f6fd8d2ca17a180786b69acc140d282b71a49"
      }
    }
  },
  "nbformat": 4,
  "nbformat_minor": 0
}
