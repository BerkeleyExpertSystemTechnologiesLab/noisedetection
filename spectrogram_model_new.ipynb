{
  "cells": [
    {
      "cell_type": "code",
      "execution_count": 2,
      "metadata": {},
      "outputs": [
        {
          "name": "stdout",
          "output_type": "stream",
          "text": [
            "\n",
            "\u001b[1m[\u001b[0m\u001b[34;49mnotice\u001b[0m\u001b[1;39;49m]\u001b[0m\u001b[39;49m A new release of pip is available: \u001b[0m\u001b[31;49m23.0.1\u001b[0m\u001b[39;49m -> \u001b[0m\u001b[32;49m23.1.2\u001b[0m\n",
            "\u001b[1m[\u001b[0m\u001b[34;49mnotice\u001b[0m\u001b[1;39;49m]\u001b[0m\u001b[39;49m To update, run: \u001b[0m\u001b[32;49mpython3.11 -m pip install --upgrade pip\u001b[0m\n"
          ]
        }
      ],
      "source": [
        "!pip3 install fastai --upgrade -q"
      ]
    },
    {
      "cell_type": "code",
      "execution_count": 3,
      "metadata": {},
      "outputs": [
        {
          "name": "stdout",
          "output_type": "stream",
          "text": [
            "Name: fastai\n",
            "Version: 2.7.12\n",
            "Summary: fastai simplifies training fast and accurate neural nets using modern best practices\n",
            "Home-page: https://github.com/fastai/fastai\n",
            "Author: Jeremy Howard, Sylvain Gugger, and contributors\n",
            "Author-email: info@fast.ai\n",
            "License: Apache Software License 2.0\n",
            "Location: /usr/local/lib/python3.11/site-packages\n",
            "Requires: fastcore, fastdownload, fastprogress, matplotlib, packaging, pandas, pillow, pip, pyyaml, requests, scikit-learn, scipy, spacy, torch, torchvision\n",
            "Required-by: \n"
          ]
        }
      ],
      "source": [
        "!pip3 show fastai"
      ]
    },
    {
      "cell_type": "code",
      "execution_count": 4,
      "metadata": {},
      "outputs": [],
      "source": [
        "from fastai import *\n",
        "from fastai.vision import *\n",
        "import pylab\n",
        "import matplotlib\n",
        "import gc\n",
        "from glob import glob\n",
        "import pandas as pd\n",
        "import numpy as np\n",
        "from pathlib import Path "
      ]
    },
    {
      "cell_type": "code",
      "execution_count": 52,
      "metadata": {
        "id": "W1oi-os94_8O"
      },
      "outputs": [],
      "source": [
        "from fastai.vision.data import ImageDataLoaders\n",
        "from fastai.vision import *\n",
        "from fastai.vision.learner import vision_learner\n",
        "from fastai.metrics import accuracy\n",
        "import torch.nn as nn\n",
        "\n",
        "path = Path('/Users/shaamerk/Desktop/class/Squishy Robotics/gunshot/noisedetection')\n",
        "#np.random.seed(42)\n",
        "train_df = pd.read_csv('/Users/shaamerk/Desktop/class/Squishy Robotics/gunshot/noisedetection/small_train_labels.csv', index_col=0)\n",
        "classes = list(train_df.folder.unique())\n",
        "data = ImageDataLoaders.from_df(path = path, df = train_df, folder = 'all', valid_pct=0.2, suff='.jpg', num_workers=0, bs=1, classes=classes)\n",
        "\n"
      ]
    },
    {
      "cell_type": "code",
      "execution_count": 51,
      "metadata": {
        "colab": {
          "base_uri": "https://localhost:8080/"
        },
        "id": "EN4yKtdY_UgJ",
        "outputId": "f1738924-75a3-4aa2-d272-bd99bb37b3da"
      },
      "outputs": [
        {
          "ename": "AttributeError",
          "evalue": "classes",
          "output_type": "error",
          "traceback": [
            "\u001b[0;31m---------------------------------------------------------------------------\u001b[0m",
            "\u001b[0;31mAttributeError\u001b[0m                            Traceback (most recent call last)",
            "Cell \u001b[0;32mIn[51], line 1\u001b[0m\n\u001b[0;32m----> 1\u001b[0m data\u001b[39m.\u001b[39;49mclasses\n",
            "File \u001b[0;32m/usr/local/lib/python3.11/site-packages/fastcore/basics.py:496\u001b[0m, in \u001b[0;36mGetAttr.__getattr__\u001b[0;34m(self, k)\u001b[0m\n\u001b[1;32m    494\u001b[0m \u001b[39mif\u001b[39;00m \u001b[39mself\u001b[39m\u001b[39m.\u001b[39m_component_attr_filter(k):\n\u001b[1;32m    495\u001b[0m     attr \u001b[39m=\u001b[39m \u001b[39mgetattr\u001b[39m(\u001b[39mself\u001b[39m,\u001b[39mself\u001b[39m\u001b[39m.\u001b[39m_default,\u001b[39mNone\u001b[39;00m)\n\u001b[0;32m--> 496\u001b[0m     \u001b[39mif\u001b[39;00m attr \u001b[39mis\u001b[39;00m \u001b[39mnot\u001b[39;00m \u001b[39mNone\u001b[39;00m: \u001b[39mreturn\u001b[39;00m \u001b[39mgetattr\u001b[39m(attr,k)\n\u001b[1;32m    497\u001b[0m \u001b[39mraise\u001b[39;00m \u001b[39mAttributeError\u001b[39;00m(k)\n",
            "File \u001b[0;32m/usr/local/lib/python3.11/site-packages/fastcore/basics.py:496\u001b[0m, in \u001b[0;36mGetAttr.__getattr__\u001b[0;34m(self, k)\u001b[0m\n\u001b[1;32m    494\u001b[0m \u001b[39mif\u001b[39;00m \u001b[39mself\u001b[39m\u001b[39m.\u001b[39m_component_attr_filter(k):\n\u001b[1;32m    495\u001b[0m     attr \u001b[39m=\u001b[39m \u001b[39mgetattr\u001b[39m(\u001b[39mself\u001b[39m,\u001b[39mself\u001b[39m\u001b[39m.\u001b[39m_default,\u001b[39mNone\u001b[39;00m)\n\u001b[0;32m--> 496\u001b[0m     \u001b[39mif\u001b[39;00m attr \u001b[39mis\u001b[39;00m \u001b[39mnot\u001b[39;00m \u001b[39mNone\u001b[39;00m: \u001b[39mreturn\u001b[39;00m \u001b[39mgetattr\u001b[39m(attr,k)\n\u001b[1;32m    497\u001b[0m \u001b[39mraise\u001b[39;00m \u001b[39mAttributeError\u001b[39;00m(k)\n",
            "File \u001b[0;32m/usr/local/lib/python3.11/site-packages/fastai/data/core.py:461\u001b[0m, in \u001b[0;36mDatasets.__getattr__\u001b[0;34m(self, k)\u001b[0m\n\u001b[0;32m--> 461\u001b[0m \u001b[39mdef\u001b[39;00m \u001b[39m__getattr__\u001b[39m(\u001b[39mself\u001b[39m,k): \u001b[39mreturn\u001b[39;00m gather_attrs(\u001b[39mself\u001b[39;49m, k, \u001b[39m'\u001b[39;49m\u001b[39mtls\u001b[39;49m\u001b[39m'\u001b[39;49m)\n",
            "File \u001b[0;32m/usr/local/lib/python3.11/site-packages/fastcore/transform.py:173\u001b[0m, in \u001b[0;36mgather_attrs\u001b[0;34m(o, k, nm)\u001b[0m\n\u001b[1;32m    171\u001b[0m att \u001b[39m=\u001b[39m \u001b[39mgetattr\u001b[39m(o,nm)\n\u001b[1;32m    172\u001b[0m res \u001b[39m=\u001b[39m [t \u001b[39mfor\u001b[39;00m t \u001b[39min\u001b[39;00m att\u001b[39m.\u001b[39mattrgot(k) \u001b[39mif\u001b[39;00m t \u001b[39mis\u001b[39;00m \u001b[39mnot\u001b[39;00m \u001b[39mNone\u001b[39;00m]\n\u001b[0;32m--> 173\u001b[0m \u001b[39mif\u001b[39;00m \u001b[39mnot\u001b[39;00m res: \u001b[39mraise\u001b[39;00m \u001b[39mAttributeError\u001b[39;00m(k)\n\u001b[1;32m    174\u001b[0m \u001b[39mreturn\u001b[39;00m res[\u001b[39m0\u001b[39m] \u001b[39mif\u001b[39;00m \u001b[39mlen\u001b[39m(res)\u001b[39m==\u001b[39m\u001b[39m1\u001b[39m \u001b[39melse\u001b[39;00m L(res)\n",
            "\u001b[0;31mAttributeError\u001b[0m: classes"
          ]
        }
      ],
      "source": [
        "data.classes"
      ]
    },
    {
      "cell_type": "code",
      "execution_count": 53,
      "metadata": {
        "colab": {
          "base_uri": "https://localhost:8080/"
        },
        "id": "hIBf3MubFQ21",
        "outputId": "566ee803-1fa9-4a74-e124-0c63598aee31"
      },
      "outputs": [
        {
          "ename": "TypeError",
          "evalue": "Net.forward() got an unexpected keyword argument 'pretrained'",
          "output_type": "error",
          "traceback": [
            "\u001b[0;31m---------------------------------------------------------------------------\u001b[0m",
            "\u001b[0;31mTypeError\u001b[0m                                 Traceback (most recent call last)",
            "Cell \u001b[0;32mIn[53], line 2\u001b[0m\n\u001b[1;32m      1\u001b[0m \u001b[39m#learn = vision_learner(data, models.resnet34, metrics=accuracy)\u001b[39;00m\n\u001b[0;32m----> 2\u001b[0m learn \u001b[39m=\u001b[39m vision_learner(data, Net(), metrics\u001b[39m=\u001b[39;49m[accuracy])\n\u001b[1;32m      3\u001b[0m learn\u001b[39m.\u001b[39mfit_one_cycle(\u001b[39m4\u001b[39m)\n",
            "File \u001b[0;32m/usr/local/lib/python3.11/site-packages/fastai/vision/learner.py:228\u001b[0m, in \u001b[0;36mvision_learner\u001b[0;34m(dls, arch, normalize, n_out, pretrained, loss_func, opt_func, lr, splitter, cbs, metrics, path, model_dir, wd, wd_bn_bias, train_bn, moms, cut, init, custom_head, concat_pool, pool, lin_ftrs, ps, first_bn, bn_final, lin_first, y_range, **kwargs)\u001b[0m\n\u001b[1;32m    226\u001b[0m \u001b[39melse\u001b[39;00m:\n\u001b[1;32m    227\u001b[0m     \u001b[39mif\u001b[39;00m normalize: _add_norm(dls, meta, pretrained, n_in)\n\u001b[0;32m--> 228\u001b[0m     model \u001b[39m=\u001b[39m create_vision_model(arch, n_out, pretrained\u001b[39m=\u001b[39;49mpretrained, \u001b[39m*\u001b[39;49m\u001b[39m*\u001b[39;49mmodel_args)\n\u001b[1;32m    230\u001b[0m splitter \u001b[39m=\u001b[39m ifnone(splitter, meta[\u001b[39m'\u001b[39m\u001b[39msplit\u001b[39m\u001b[39m'\u001b[39m])\n\u001b[1;32m    231\u001b[0m learn \u001b[39m=\u001b[39m Learner(dls\u001b[39m=\u001b[39mdls, model\u001b[39m=\u001b[39mmodel, loss_func\u001b[39m=\u001b[39mloss_func, opt_func\u001b[39m=\u001b[39mopt_func, lr\u001b[39m=\u001b[39mlr, splitter\u001b[39m=\u001b[39msplitter, cbs\u001b[39m=\u001b[39mcbs,\n\u001b[1;32m    232\u001b[0m                metrics\u001b[39m=\u001b[39mmetrics, path\u001b[39m=\u001b[39mpath, model_dir\u001b[39m=\u001b[39mmodel_dir, wd\u001b[39m=\u001b[39mwd, wd_bn_bias\u001b[39m=\u001b[39mwd_bn_bias, train_bn\u001b[39m=\u001b[39mtrain_bn, moms\u001b[39m=\u001b[39mmoms)\n",
            "File \u001b[0;32m/usr/local/lib/python3.11/site-packages/fastai/vision/learner.py:164\u001b[0m, in \u001b[0;36mcreate_vision_model\u001b[0;34m(arch, n_out, pretrained, cut, n_in, init, custom_head, concat_pool, pool, lin_ftrs, ps, first_bn, bn_final, lin_first, y_range)\u001b[0m\n\u001b[1;32m    162\u001b[0m \u001b[39m\"\u001b[39m\u001b[39mCreate custom vision architecture\u001b[39m\u001b[39m\"\u001b[39m\n\u001b[1;32m    163\u001b[0m meta \u001b[39m=\u001b[39m model_meta\u001b[39m.\u001b[39mget(arch, _default_meta)\n\u001b[0;32m--> 164\u001b[0m model \u001b[39m=\u001b[39m arch(pretrained\u001b[39m=\u001b[39;49mpretrained)\n\u001b[1;32m    165\u001b[0m body \u001b[39m=\u001b[39m create_body(model, n_in, pretrained, ifnone(cut, meta[\u001b[39m'\u001b[39m\u001b[39mcut\u001b[39m\u001b[39m'\u001b[39m]))\n\u001b[1;32m    166\u001b[0m nf \u001b[39m=\u001b[39m num_features_model(nn\u001b[39m.\u001b[39mSequential(\u001b[39m*\u001b[39mbody\u001b[39m.\u001b[39mchildren())) \u001b[39mif\u001b[39;00m custom_head \u001b[39mis\u001b[39;00m \u001b[39mNone\u001b[39;00m \u001b[39melse\u001b[39;00m \u001b[39mNone\u001b[39;00m\n",
            "File \u001b[0;32m/usr/local/lib/python3.11/site-packages/torch/nn/modules/module.py:1501\u001b[0m, in \u001b[0;36mModule._call_impl\u001b[0;34m(self, *args, **kwargs)\u001b[0m\n\u001b[1;32m   1496\u001b[0m \u001b[39m# If we don't have any hooks, we want to skip the rest of the logic in\u001b[39;00m\n\u001b[1;32m   1497\u001b[0m \u001b[39m# this function, and just call forward.\u001b[39;00m\n\u001b[1;32m   1498\u001b[0m \u001b[39mif\u001b[39;00m \u001b[39mnot\u001b[39;00m (\u001b[39mself\u001b[39m\u001b[39m.\u001b[39m_backward_hooks \u001b[39mor\u001b[39;00m \u001b[39mself\u001b[39m\u001b[39m.\u001b[39m_backward_pre_hooks \u001b[39mor\u001b[39;00m \u001b[39mself\u001b[39m\u001b[39m.\u001b[39m_forward_hooks \u001b[39mor\u001b[39;00m \u001b[39mself\u001b[39m\u001b[39m.\u001b[39m_forward_pre_hooks\n\u001b[1;32m   1499\u001b[0m         \u001b[39mor\u001b[39;00m _global_backward_pre_hooks \u001b[39mor\u001b[39;00m _global_backward_hooks\n\u001b[1;32m   1500\u001b[0m         \u001b[39mor\u001b[39;00m _global_forward_hooks \u001b[39mor\u001b[39;00m _global_forward_pre_hooks):\n\u001b[0;32m-> 1501\u001b[0m     \u001b[39mreturn\u001b[39;00m forward_call(\u001b[39m*\u001b[39;49margs, \u001b[39m*\u001b[39;49m\u001b[39m*\u001b[39;49mkwargs)\n\u001b[1;32m   1502\u001b[0m \u001b[39m# Do not call functions when jit is used\u001b[39;00m\n\u001b[1;32m   1503\u001b[0m full_backward_hooks, non_full_backward_hooks \u001b[39m=\u001b[39m [], []\n",
            "\u001b[0;31mTypeError\u001b[0m: Net.forward() got an unexpected keyword argument 'pretrained'"
          ]
        }
      ],
      "source": [
        "\n",
        "learn = vision_learner(data, models.resnet34, metrics=accuracy)\n"
      ]
    },
    {
      "cell_type": "code",
      "execution_count": 48,
      "metadata": {
        "colab": {
          "base_uri": "https://localhost:8080/",
          "height": 95
        },
        "id": "Zm6QF8eUH0I9",
        "outputId": "c06108db-c218-429f-ae1e-be2c387f4d32"
      },
      "outputs": [
        {
          "ename": "AttributeError",
          "evalue": "'Sequential' object has no attribute 'fit_one_cycle'",
          "output_type": "error",
          "traceback": [
            "\u001b[0;31m---------------------------------------------------------------------------\u001b[0m",
            "\u001b[0;31mAttributeError\u001b[0m                            Traceback (most recent call last)",
            "Cell \u001b[0;32mIn[48], line 1\u001b[0m\n\u001b[0;32m----> 1\u001b[0m learn\u001b[39m.\u001b[39;49mfit_one_cycle(\u001b[39m4\u001b[39m)\n",
            "File \u001b[0;32m/usr/local/lib/python3.11/site-packages/fastcore/basics.py:496\u001b[0m, in \u001b[0;36mGetAttr.__getattr__\u001b[0;34m(self, k)\u001b[0m\n\u001b[1;32m    494\u001b[0m \u001b[39mif\u001b[39;00m \u001b[39mself\u001b[39m\u001b[39m.\u001b[39m_component_attr_filter(k):\n\u001b[1;32m    495\u001b[0m     attr \u001b[39m=\u001b[39m \u001b[39mgetattr\u001b[39m(\u001b[39mself\u001b[39m,\u001b[39mself\u001b[39m\u001b[39m.\u001b[39m_default,\u001b[39mNone\u001b[39;00m)\n\u001b[0;32m--> 496\u001b[0m     \u001b[39mif\u001b[39;00m attr \u001b[39mis\u001b[39;00m \u001b[39mnot\u001b[39;00m \u001b[39mNone\u001b[39;00m: \u001b[39mreturn\u001b[39;00m \u001b[39mgetattr\u001b[39m(attr,k)\n\u001b[1;32m    497\u001b[0m \u001b[39mraise\u001b[39;00m \u001b[39mAttributeError\u001b[39;00m(k)\n",
            "File \u001b[0;32m/usr/local/lib/python3.11/site-packages/torch/nn/modules/module.py:1614\u001b[0m, in \u001b[0;36mModule.__getattr__\u001b[0;34m(self, name)\u001b[0m\n\u001b[1;32m   1612\u001b[0m     \u001b[39mif\u001b[39;00m name \u001b[39min\u001b[39;00m modules:\n\u001b[1;32m   1613\u001b[0m         \u001b[39mreturn\u001b[39;00m modules[name]\n\u001b[0;32m-> 1614\u001b[0m \u001b[39mraise\u001b[39;00m \u001b[39mAttributeError\u001b[39;00m(\u001b[39m\"\u001b[39m\u001b[39m'\u001b[39m\u001b[39m{}\u001b[39;00m\u001b[39m'\u001b[39m\u001b[39m object has no attribute \u001b[39m\u001b[39m'\u001b[39m\u001b[39m{}\u001b[39;00m\u001b[39m'\u001b[39m\u001b[39m\"\u001b[39m\u001b[39m.\u001b[39mformat(\n\u001b[1;32m   1615\u001b[0m     \u001b[39mtype\u001b[39m(\u001b[39mself\u001b[39m)\u001b[39m.\u001b[39m\u001b[39m__name__\u001b[39m, name))\n",
            "\u001b[0;31mAttributeError\u001b[0m: 'Sequential' object has no attribute 'fit_one_cycle'"
          ]
        }
      ],
      "source": [
        "\n",
        "learn.fit_one_cycle(4)"
      ]
    },
    {
      "cell_type": "code",
      "execution_count": null,
      "metadata": {
        "id": "DZpr1h5xH4hl"
      },
      "outputs": [],
      "source": [
        "learn.save('stage-1')"
      ]
    },
    {
      "cell_type": "code",
      "execution_count": null,
      "metadata": {
        "id": "u7mB1KTFKCIV"
      },
      "outputs": [],
      "source": [
        "learn.unfreeze()\n",
        "learn.lr_find()\n",
        "learn.recorder.plot()"
      ]
    },
    {
      "cell_type": "code",
      "execution_count": null,
      "metadata": {
        "id": "DdzfWoPKKCzr"
      },
      "outputs": [],
      "source": [
        "learn.fit_one_cycle(4, max_lr=slice(1e-4,1e-3))"
      ]
    },
    {
      "cell_type": "code",
      "execution_count": null,
      "metadata": {
        "id": "rDAPygb3KFca"
      },
      "outputs": [],
      "source": [
        "learn.save('stage-2')"
      ]
    },
    {
      "cell_type": "code",
      "execution_count": null,
      "metadata": {
        "id": "DAvldpSpKKix"
      },
      "outputs": [],
      "source": [
        "learn.lr_find()\n",
        "learn.recorder.plot()"
      ]
    },
    {
      "cell_type": "code",
      "execution_count": null,
      "metadata": {
        "id": "vFsFiliFKNuL"
      },
      "outputs": [],
      "source": [
        "learn.fit_one_cycle(1, max_lr=slice(1e-6,2e-6))"
      ]
    },
    {
      "cell_type": "code",
      "execution_count": null,
      "metadata": {
        "id": "CvDMQwAbKQJi"
      },
      "outputs": [],
      "source": [
        "learn.save('stage-3')"
      ]
    },
    {
      "attachments": {},
      "cell_type": "markdown",
      "metadata": {
        "id": "EGVIyTVgKt3r"
      },
      "source": [
        "Making Predictions"
      ]
    },
    {
      "cell_type": "code",
      "execution_count": null,
      "metadata": {
        "id": "6yNWu2b2KSS5"
      },
      "outputs": [],
      "source": [
        "with open('output.csv',\"w\") as file:\n",
        "    file.write(\"ID,Prediction\\n\")\n",
        "    for file in labels_test.filename:\n",
        "        img = open_image('test/'+str(file)+'.jpg')\n",
        "        prediction = str(learn.predict(img)[0]).split()[0]\n",
        "        file.write(str(file)+','+prediction)\n",
        "        file.write('\\n')"
      ]
    },
    {
      "cell_type": "code",
      "execution_count": null,
      "metadata": {
        "id": "Us5Usn2NLB69"
      },
      "outputs": [],
      "source": [
        "output = pd.read_csv('output.csv')\n",
        "output.head()"
      ]
    },
    {
      "attachments": {},
      "cell_type": "markdown",
      "metadata": {
        "id": "ATH6_fzlLF7l"
      },
      "source": [
        "Cleanup"
      ]
    },
    {
      "cell_type": "code",
      "execution_count": null,
      "metadata": {
        "id": "RaICrGXtLG75"
      },
      "outputs": [],
      "source": [
        "'''\n",
        "%%capture\n",
        "!apt-get install zip\n",
        "!zip -r train.zip /kaggle/working/train/\n",
        "!zip -r test.zip /kaggle/working/test/\n",
        "!rm -rf train/*\n",
        "!rm -rf test/*\n",
        "'''"
      ]
    }
  ],
  "metadata": {
    "accelerator": "GPU",
    "colab": {
      "provenance": []
    },
    "gpuClass": "standard",
    "kernelspec": {
      "display_name": "Python 3",
      "name": "python3"
    },
    "language_info": {
      "codemirror_mode": {
        "name": "ipython",
        "version": 3
      },
      "file_extension": ".py",
      "mimetype": "text/x-python",
      "name": "python",
      "nbconvert_exporter": "python",
      "pygments_lexer": "ipython3",
      "version": "3.11.3"
    }
  },
  "nbformat": 4,
  "nbformat_minor": 0
}
