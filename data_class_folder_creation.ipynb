{
 "cells": [
  {
   "cell_type": "code",
   "execution_count": 11,
   "metadata": {},
   "outputs": [],
   "source": [
    "from pathlib import Path \n",
    "\n",
    "# Define your paths\n",
    "path = Path('/Users/shaamerk/Desktop/class/Squishy Robotics/gunshot/noisedetection')\n",
    "train_csv = path/'train_labels.csv'\n",
    "valid_csv = path/'test_labels.csv'\n",
    "data_path = Path('/Users/srinijacherivirala/Desktop/all/')"
   ]
  },
  {
   "cell_type": "code",
   "execution_count": 12,
   "metadata": {},
   "outputs": [],
   "source": [
    "import os\n",
    "import shutil\n",
    "import pandas as pd\n",
    "\n",
    "# Load the CSV files\n",
    "train_df = pd.read_csv(train_csv)\n",
    "test_df = pd.read_csv(valid_csv)\n",
    "train_df['filename'] = train_df['filename'].apply(lambda x: x+'.jpg')\n",
    "test_df['filename'] = test_df['filename'].apply(lambda x: x+'.jpg')"
   ]
  },
  {
   "cell_type": "code",
   "execution_count": 13,
   "metadata": {},
   "outputs": [
    {
     "ename": "FileNotFoundError",
     "evalue": "[Errno 2] No such file or directory: '/Users/shaamerk/Desktop/class/Squishy Robotics/gunshot/noisedetection/all/545023ab-9344-4ff1-b0a7-ef5eda73893d_chan6_v0.jpg'",
     "output_type": "error",
     "traceback": [
      "\u001b[0;31m---------------------------------------------------------------------------\u001b[0m",
      "\u001b[0;31mFileNotFoundError\u001b[0m                         Traceback (most recent call last)",
      "File \u001b[0;32m/usr/local/Cellar/python@3.11/3.11.3/Frameworks/Python.framework/Versions/3.11/lib/python3.11/shutil.py:825\u001b[0m, in \u001b[0;36mmove\u001b[0;34m(src, dst, copy_function)\u001b[0m\n\u001b[1;32m    824\u001b[0m \u001b[39mtry\u001b[39;00m:\n\u001b[0;32m--> 825\u001b[0m     os\u001b[39m.\u001b[39mrename(src, real_dst)\n\u001b[1;32m    826\u001b[0m \u001b[39mexcept\u001b[39;00m \u001b[39mOSError\u001b[39;00m:\n",
      "\u001b[0;31mFileNotFoundError\u001b[0m: [Errno 2] No such file or directory: '/Users/shaamerk/Desktop/class/Squishy Robotics/gunshot/noisedetection/all/545023ab-9344-4ff1-b0a7-ef5eda73893d_chan6_v0.jpg' -> '/Users/shaamerk/Desktop/class/Squishy Robotics/gunshot/noisedetection/train/Gunshot/545023ab-9344-4ff1-b0a7-ef5eda73893d_chan6_v0.jpg'",
      "\nDuring handling of the above exception, another exception occurred:\n",
      "\u001b[0;31mFileNotFoundError\u001b[0m                         Traceback (most recent call last)",
      "Cell \u001b[0;32mIn[13], line 8\u001b[0m\n\u001b[1;32m      6\u001b[0m     dst_path \u001b[39m=\u001b[39m os\u001b[39m.\u001b[39mpath\u001b[39m.\u001b[39mjoin(\u001b[39m'\u001b[39m\u001b[39m/Users/shaamerk/Desktop/class/Squishy Robotics/gunshot/noisedetection/train/\u001b[39m\u001b[39m'\u001b[39m, class_name, filename)\n\u001b[1;32m      7\u001b[0m     os\u001b[39m.\u001b[39mmakedirs(os\u001b[39m.\u001b[39mpath\u001b[39m.\u001b[39mdirname(dst_path), exist_ok\u001b[39m=\u001b[39m\u001b[39mTrue\u001b[39;00m)\n\u001b[0;32m----> 8\u001b[0m     shutil\u001b[39m.\u001b[39;49mmove(src_path, dst_path)\n\u001b[1;32m     10\u001b[0m \u001b[39m# Loop through each row in the test dataframe and move the corresponding image to the appropriate class folder\u001b[39;00m\n\u001b[1;32m     11\u001b[0m \u001b[39mfor\u001b[39;00m index, row \u001b[39min\u001b[39;00m test_df\u001b[39m.\u001b[39miterrows():\n",
      "File \u001b[0;32m/usr/local/Cellar/python@3.11/3.11.3/Frameworks/Python.framework/Versions/3.11/lib/python3.11/shutil.py:845\u001b[0m, in \u001b[0;36mmove\u001b[0;34m(src, dst, copy_function)\u001b[0m\n\u001b[1;32m    843\u001b[0m         rmtree(src)\n\u001b[1;32m    844\u001b[0m     \u001b[39melse\u001b[39;00m:\n\u001b[0;32m--> 845\u001b[0m         copy_function(src, real_dst)\n\u001b[1;32m    846\u001b[0m         os\u001b[39m.\u001b[39munlink(src)\n\u001b[1;32m    847\u001b[0m \u001b[39mreturn\u001b[39;00m real_dst\n",
      "File \u001b[0;32m/usr/local/Cellar/python@3.11/3.11.3/Frameworks/Python.framework/Versions/3.11/lib/python3.11/shutil.py:436\u001b[0m, in \u001b[0;36mcopy2\u001b[0;34m(src, dst, follow_symlinks)\u001b[0m\n\u001b[1;32m    434\u001b[0m \u001b[39mif\u001b[39;00m os\u001b[39m.\u001b[39mpath\u001b[39m.\u001b[39misdir(dst):\n\u001b[1;32m    435\u001b[0m     dst \u001b[39m=\u001b[39m os\u001b[39m.\u001b[39mpath\u001b[39m.\u001b[39mjoin(dst, os\u001b[39m.\u001b[39mpath\u001b[39m.\u001b[39mbasename(src))\n\u001b[0;32m--> 436\u001b[0m copyfile(src, dst, follow_symlinks\u001b[39m=\u001b[39;49mfollow_symlinks)\n\u001b[1;32m    437\u001b[0m copystat(src, dst, follow_symlinks\u001b[39m=\u001b[39mfollow_symlinks)\n\u001b[1;32m    438\u001b[0m \u001b[39mreturn\u001b[39;00m dst\n",
      "File \u001b[0;32m/usr/local/Cellar/python@3.11/3.11.3/Frameworks/Python.framework/Versions/3.11/lib/python3.11/shutil.py:256\u001b[0m, in \u001b[0;36mcopyfile\u001b[0;34m(src, dst, follow_symlinks)\u001b[0m\n\u001b[1;32m    254\u001b[0m     os\u001b[39m.\u001b[39msymlink(os\u001b[39m.\u001b[39mreadlink(src), dst)\n\u001b[1;32m    255\u001b[0m \u001b[39melse\u001b[39;00m:\n\u001b[0;32m--> 256\u001b[0m     \u001b[39mwith\u001b[39;00m \u001b[39mopen\u001b[39m(src, \u001b[39m'\u001b[39m\u001b[39mrb\u001b[39m\u001b[39m'\u001b[39m) \u001b[39mas\u001b[39;00m fsrc:\n\u001b[1;32m    257\u001b[0m         \u001b[39mtry\u001b[39;00m:\n\u001b[1;32m    258\u001b[0m             \u001b[39mwith\u001b[39;00m \u001b[39mopen\u001b[39m(dst, \u001b[39m'\u001b[39m\u001b[39mwb\u001b[39m\u001b[39m'\u001b[39m) \u001b[39mas\u001b[39;00m fdst:\n\u001b[1;32m    259\u001b[0m                 \u001b[39m# macOS\u001b[39;00m\n",
      "\u001b[0;31mFileNotFoundError\u001b[0m: [Errno 2] No such file or directory: '/Users/shaamerk/Desktop/class/Squishy Robotics/gunshot/noisedetection/all/545023ab-9344-4ff1-b0a7-ef5eda73893d_chan6_v0.jpg'"
     ]
    }
   ],
   "source": [
    "# Loop through each row in the train dataframe and move the corresponding image to the appropriate class folder\n",
    "for index, row in train_df.iterrows():\n",
    "    filename = row['filename']\n",
    "    class_name = row['class']\n",
    "    src_path = os.path.join('/Users/shaamerk/Desktop/class/Squishy Robotics/gunshot/noisedetection/all/', filename)\n",
    "    dst_path = os.path.join('/Users/shaamerk/Desktop/class/Squishy Robotics/gunshot/noisedetection/train/', class_name, filename)\n",
    "    os.makedirs(os.path.dirname(dst_path), exist_ok=True)\n",
    "    shutil.move(src_path, dst_path)\n",
    "\n",
    "# Loop through each row in the test dataframe and move the corresponding image to the appropriate class folder\n",
    "for index, row in test_df.iterrows():\n",
    "    filename = row['filename']\n",
    "    class_name = row['class']\n",
    "    src_path = os.path.join('/Users/shaamerk/Desktop/class/Squishy Robotics/gunshot/noisedetection/all/', filename)\n",
    "    dst_path = os.path.join('/Users/shaamerk/Desktop/class/Squishy Robotics/gunshot/noisedetection/test/', class_name, filename)\n",
    "    os.makedirs(os.path.dirname(dst_path), exist_ok=True)\n",
    "    shutil.move(src_path, dst_path)"
   ]
  }
 ],
 "metadata": {
  "kernelspec": {
   "display_name": "Python 3",
   "language": "python",
   "name": "python3"
  },
  "language_info": {
   "codemirror_mode": {
    "name": "ipython",
    "version": 3
   },
   "file_extension": ".py",
   "mimetype": "text/x-python",
   "name": "python",
   "nbconvert_exporter": "python",
   "pygments_lexer": "ipython3",
   "version": "3.11.3"
  },
  "orig_nbformat": 4
 },
 "nbformat": 4,
 "nbformat_minor": 2
}
