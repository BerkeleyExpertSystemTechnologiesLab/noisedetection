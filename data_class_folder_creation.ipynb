{
 "cells": [
  {
   "cell_type": "code",
   "execution_count": 2,
   "metadata": {},
   "outputs": [],
   "source": [
    "from pathlib import Path \n",
    "\n",
    "# Define your paths\n",
    "path = Path('/Users/srinijacherivirala/Documents/github/noisedetection/')\n",
    "train_csv = path/'train_labels.csv'\n",
    "valid_csv = path/'test_labels.csv'\n",
    "data_path = Path('/Users/srinijacherivirala/Desktop/all/')"
   ]
  },
  {
   "cell_type": "code",
   "execution_count": 3,
   "metadata": {},
   "outputs": [],
   "source": [
    "import os\n",
    "import shutil\n",
    "import pandas as pd\n",
    "\n",
    "# Load the CSV files\n",
    "train_df = pd.read_csv(train_csv)\n",
    "test_df = pd.read_csv(valid_csv)\n",
    "train_df['filename'] = train_df['filename'].apply(lambda x: x+'.jpg')\n",
    "test_df['filename'] = test_df['filename'].apply(lambda x: x+'.jpg')"
   ]
  },
  {
   "cell_type": "code",
   "execution_count": 43,
   "metadata": {},
   "outputs": [],
   "source": [
    "# Loop through each row in the train dataframe and move the corresponding image to the appropriate class folder\n",
    "for index, row in train_df.iterrows():\n",
    "    filename = row['filename']\n",
    "    class_name = row['class']\n",
    "    src_path = os.path.join('/Users/srinijacherivirala/Desktop/all/', filename)\n",
    "    dst_path = os.path.join('/Users/srinijacherivirala/Desktop/train/', class_name, filename)\n",
    "    os.makedirs(os.path.dirname(dst_path), exist_ok=True)\n",
    "    shutil.move(src_path, dst_path)\n",
    "\n",
    "# Loop through each row in the test dataframe and move the corresponding image to the appropriate class folder\n",
    "for index, row in test_df.iterrows():\n",
    "    filename = row['filename']\n",
    "    class_name = row['class']\n",
    "    src_path = os.path.join('/Users/srinijacherivirala/Desktop/all/', filename)\n",
    "    dst_path = os.path.join('/Users/srinijacherivirala/Desktop/test/', class_name, filename)\n",
    "    os.makedirs(os.path.dirname(dst_path), exist_ok=True)\n",
    "    shutil.move(src_path, dst_path)"
   ]
  }
 ],
 "metadata": {
  "kernelspec": {
   "display_name": "Python 3",
   "language": "python",
   "name": "python3"
  },
  "language_info": {
   "codemirror_mode": {
    "name": "ipython",
    "version": 3
   },
   "file_extension": ".py",
   "mimetype": "text/x-python",
   "name": "python",
   "nbconvert_exporter": "python",
   "pygments_lexer": "ipython3",
   "version": "3.10.7"
  },
  "orig_nbformat": 4
 },
 "nbformat": 4,
 "nbformat_minor": 2
}
